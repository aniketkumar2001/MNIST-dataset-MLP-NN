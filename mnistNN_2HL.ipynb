{
 "cells": [
  {
   "cell_type": "code",
   "execution_count": 1,
   "metadata": {},
   "outputs": [],
   "source": [
    "import numpy as np\n",
    "import pandas as pd\n",
    "import matplotlib.pyplot as plt"
   ]
  },
  {
   "cell_type": "code",
   "execution_count": 2,
   "metadata": {},
   "outputs": [
    {
     "name": "stdout",
     "output_type": "stream",
     "text": [
      "<class 'pandas.core.frame.DataFrame'>\n",
      "RangeIndex: 59999 entries, 0 to 59998\n",
      "Columns: 785 entries, 5 to 0.617\n",
      "dtypes: int64(785)\n",
      "memory usage: 359.3 MB\n",
      "<class 'pandas.core.frame.DataFrame'>\n",
      "RangeIndex: 9999 entries, 0 to 9998\n",
      "Columns: 785 entries, 7 to 0.667\n",
      "dtypes: int64(785)\n",
      "memory usage: 59.9 MB\n"
     ]
    }
   ],
   "source": [
    "trainData = pd.read_csv(\"mnist_train.csv\")\n",
    "testData = pd.read_csv(\"mnist_test.csv\")\n",
    "trainData.info(), testData.info();"
   ]
  },
  {
   "cell_type": "code",
   "execution_count": 3,
   "metadata": {},
   "outputs": [
    {
     "data": {
      "text/plain": [
       "((59999, 785), (9999, 785))"
      ]
     },
     "execution_count": 3,
     "metadata": {},
     "output_type": "execute_result"
    }
   ],
   "source": [
    "# to access the data\n",
    "\n",
    "trainData = np.array(trainData)\n",
    "testData = np.array(testData)\n",
    "trainData.shape, testData.shape"
   ]
  },
  {
   "cell_type": "code",
   "execution_count": 4,
   "metadata": {},
   "outputs": [],
   "source": [
    "trainY = trainData[:,0]\n",
    "trainX = trainData[:,1:]/255.0   # normalizing\n",
    "\n",
    "testY = testData[:,0]\n",
    "testX = testData[:,1:]/255.0   # normalizing"
   ]
  },
  {
   "cell_type": "code",
   "execution_count": 5,
   "metadata": {},
   "outputs": [
    {
     "data": {
      "text/plain": [
       "((59999,), (59999, 784))"
      ]
     },
     "execution_count": 5,
     "metadata": {},
     "output_type": "execute_result"
    }
   ],
   "source": [
    "trainY.shape, trainX.shape"
   ]
  },
  {
   "cell_type": "code",
   "execution_count": 6,
   "metadata": {},
   "outputs": [
    {
     "data": {
      "text/plain": [
       "((9999,), (9999, 784))"
      ]
     },
     "execution_count": 6,
     "metadata": {},
     "output_type": "execute_result"
    }
   ],
   "source": [
    "testY.shape, testX.shape"
   ]
  },
  {
   "cell_type": "code",
   "execution_count": 7,
   "metadata": {},
   "outputs": [],
   "source": [
    "# defining activation func\n",
    "\n",
    "def sigmoid(x):\n",
    "    res = 1/(1+np.exp(-x))\n",
    "    return res\n",
    "\n",
    "def sigmoid_prime(x):\n",
    "    res = np.exp(-x)/(1+np.exp(-x))**2\n",
    "    return res\n",
    "\n",
    "def relu(x):\n",
    "    return np.maximum(0, x)\n",
    "\n",
    "def relu_prime(x):\n",
    "    return np.where(x > 0, 1, 0)"
   ]
  },
  {
   "cell_type": "code",
   "execution_count": 8,
   "metadata": {},
   "outputs": [],
   "source": [
    "# performing the activation\n",
    "\n",
    "def activation(A,W,B):\n",
    "    Z = np.matmul(W,A) + B\n",
    "    Af = relu(Z) if W.shape[0] != 10 else sigmoid(Z)  # Use ReLU in hidden layers, sigmoid in output layer\n",
    "    return Af,Z\n"
   ]
  },
  {
   "cell_type": "code",
   "execution_count": 9,
   "metadata": {},
   "outputs": [],
   "source": [
    "# for forward propagation\n",
    "\n",
    "def predict(X):\n",
    "    global W1, W2, W3, B1, B2, B3\n",
    "    H1, Z1 = activation(X, W1, B1)\n",
    "    H2, Z2 = activation(H1, W2, B2)\n",
    "    Y, Z3 = activation(H2, W3, B3)\n",
    "    return Y\n"
   ]
  },
  {
   "cell_type": "code",
   "execution_count": 10,
   "metadata": {},
   "outputs": [],
   "source": [
    "# req prediction for Y\n",
    "\n",
    "def reqY(n):\n",
    "    res = np.zeros([10])\n",
    "    res[n] = 1.0\n",
    "    return res"
   ]
  },
  {
   "cell_type": "code",
   "execution_count": 12,
   "metadata": {},
   "outputs": [],
   "source": [
    "# initialising weights and biases for NN with two hidden layers with 16 neurons in each\n",
    "\n",
    "'''\n",
    "Random initialization might not be effective, especially with certain \n",
    "activation functions. Fix: Use a better weight initialization strategy, \n",
    "like Xavier initialization (for sigmoid or tanh) or He initialization (for ReLU)\n",
    "'''\n",
    "\n",
    "W1 = np.random.randn(16, 784) * np.sqrt(2. / 784)\n",
    "B1 = np.zeros(16)\n",
    "\n",
    "W2 = np.random.randn(16, 16) * np.sqrt(2. / 16)\n",
    "B2 = np.zeros(16)\n",
    "\n",
    "W3 = np.random.randn(10, 16) * np.sqrt(2. / 16)\n",
    "B3 = np.zeros(10)\n"
   ]
  },
  {
   "cell_type": "code",
   "execution_count": 11,
   "metadata": {},
   "outputs": [],
   "source": [
    "# loading the saved Ws and Bs\n",
    "\n",
    "'''\n",
    "W1 = np.load('W1.npy')\n",
    "W2 = np.load('W2.npy')\n",
    "W3 = np.load('W3.npy')\n",
    "B1 = np.load('B1.npy')\n",
    "B2 = np.load('B2.npy')\n",
    "B3 = np.load('B3.npy')\n",
    "'''"
   ]
  },
  {
   "cell_type": "code",
   "execution_count": 12,
   "metadata": {},
   "outputs": [],
   "source": [
    "# getting the cost\n",
    "\n",
    "def calcCost():\n",
    "    global trainY,trainX,W1,W2,W3,B1,B2,B3\n",
    "    cost = []\n",
    "    for i in range(trainY.shape[0]):\n",
    "        X = trainX[i,:]\n",
    "        Y = predict(X)\n",
    "        costt = (Y-reqY(trainY[i]))**2\n",
    "        cost.append(costt.sum()/2)\n",
    "    \n",
    "    cost = np.array(cost)\n",
    "    return cost.mean()"
   ]
  },
  {
   "cell_type": "code",
   "execution_count": 13,
   "metadata": {},
   "outputs": [],
   "source": [
    "# The backpropagation algorithm to compute Cost gradient\n",
    "\n",
    "def backProp(trainY,trainX):\n",
    "    \n",
    "    global W1,W2,W3,B1,B2,B3,dB3,dB2,dB1,dW3,dW2,dW1\n",
    "    \n",
    "    dB3 = dB2 = dB1 = dW3 = dW2 = dW1 = 0.0\n",
    "    \n",
    "    for i in range(trainY.shape[0]):\n",
    "        X = trainX[i,:]\n",
    "        Y_expected = reqY(trainY[i])\n",
    "        H1,Z1 = activation(X, W1, B1)\n",
    "        H2,Z2 = activation(H1,W2,B2)\n",
    "        Y,Z3 = activation(H2,W3,B3)\n",
    "        \n",
    "        # getting deltas\n",
    "        delta_Y = (Y-Y_expected)*sigmoid_prime(Z3)\n",
    "        delta_H2 = np.matmul(W3.T,delta_Y)*relu_prime(Z2)\n",
    "        delta_H1 = np.matmul(W2.T,delta_H2)*relu_prime(Z1)\n",
    "        \n",
    "        # getting the delWs and delBs\n",
    "        \n",
    "        dB3 += delta_Y\n",
    "        dB2 += delta_H2\n",
    "        dB1 += delta_H1\n",
    "        \n",
    "        dW3 += np.outer(delta_Y,H2)\n",
    "        dW2 += np.outer(delta_H2,H1)\n",
    "        dW1 += np.outer(delta_H1,X)\n",
    "    \n",
    "    \n",
    "    dB3 = dB3/trainY.shape[0]\n",
    "    dB2 = dB2/trainY.shape[0]\n",
    "    dB1 = dB1/trainY.shape[0]\n",
    "    \n",
    "    dW3 = dW3/trainY.shape[0]\n",
    "    dW2 = dW2/trainY.shape[0]\n",
    "    dW1 = dW1/trainY.shape[0]\n",
    "\n",
    "    return dW1, dW2, dW3, dB1, dB2, dB3\n"
   ]
  },
  {
   "cell_type": "code",
   "execution_count": 14,
   "metadata": {},
   "outputs": [],
   "source": [
    "# updating the Ws and Bs\n",
    "\n",
    "def updateParams(learning_rate, dW1, dW2, dW3, dB1, dB2, dB3):\n",
    "    global W1,W2,W3,B1,B2,B3\n",
    "    \n",
    "    W3 -= learning_rate * dW3\n",
    "    B3 -= learning_rate * dB3\n",
    "    \n",
    "    W2 -= learning_rate * dW2\n",
    "    B2 -= learning_rate * dB2\n",
    "    \n",
    "    W1 -= learning_rate * dW1\n",
    "    B1 -= learning_rate * dB1\n"
   ]
  },
  {
   "cell_type": "code",
   "execution_count": 15,
   "metadata": {},
   "outputs": [],
   "source": [
    "# saving current Ws and Bs\n",
    "def saveParams():\n",
    "    global W1,W2,W3,B1,B2,B3\n",
    "    np.save('W1.npy', W1)\n",
    "    np.save('W2.npy', W2)\n",
    "    np.save('W3.npy', W3)\n",
    "    np.save('B1.npy', B1)\n",
    "    np.save('B2.npy', B2)\n",
    "    np.save('B3.npy', B3)"
   ]
  },
  {
   "cell_type": "code",
   "execution_count": null,
   "metadata": {},
   "outputs": [],
   "source": []
  },
  {
   "cell_type": "code",
   "execution_count": 54,
   "metadata": {},
   "outputs": [
    {
     "name": "stdout",
     "output_type": "stream",
     "text": [
      "0.11646799126319972\n",
      "0.11645374760673322\n",
      "0.11644157078763899\n"
     ]
    }
   ],
   "source": [
    "# for learning/training the model using all the data at once\n",
    "\n",
    "learningRate = 0.1\n",
    "\n",
    "for epoch in range(3):   # no of epoch\n",
    "    dW1, dW2, dW3, dB1, dB2, dB3 = backProp(trainY,trainX)\n",
    "    updateParams(learningRate, dW1, dW2, dW3, dB1, dB2, dB3)\n",
    "    cost = calcCost()\n",
    "    print(cost)"
   ]
  },
  {
   "cell_type": "code",
   "execution_count": null,
   "metadata": {},
   "outputs": [],
   "source": []
  },
  {
   "cell_type": "code",
   "execution_count": 73,
   "metadata": {},
   "outputs": [
    {
     "name": "stdout",
     "output_type": "stream",
     "text": [
      "Epoch 1, Cost: 0.0781810334044968\n"
     ]
    }
   ],
   "source": [
    "# # for learning/training the model using Mini-Batch Stochastic Gradient Descent (SGD)\n",
    "\n",
    "batch_size = 1000\n",
    "learning_rate = 0.05\n",
    "\n",
    "prev_cost = 999999   # default high cost \n",
    "\n",
    "for epoch in range(100):   # no of epoch\n",
    "    for i in range(0, trainX.shape[0], batch_size):\n",
    "        X_batch = trainX[i:i+batch_size, :]\n",
    "        Y_batch = trainY[i:i+batch_size]\n",
    "        dW1, dW2, dW3, dB1, dB2, dB3 = backProp(Y_batch,X_batch)\n",
    "        updateParams(learning_rate, dW1, dW2, dW3, dB1, dB2, dB3)\n",
    "    cost = calcCost()\n",
    "    \n",
    "    if prev_cost<cost:\n",
    "        break\n",
    "    \n",
    "    prev_cost = cost\n",
    "    if epoch%10==0:\n",
    "        saveParams()\n",
    "        print(f\"Epoch {epoch+1}, Cost: {cost}\")"
   ]
  },
  {
   "cell_type": "code",
   "execution_count": null,
   "metadata": {},
   "outputs": [],
   "source": []
  },
  {
   "cell_type": "code",
   "execution_count": 16,
   "metadata": {},
   "outputs": [],
   "source": [
    "# To test the performance on test data and plotting the confusion matrix\n",
    "\n",
    "# Function to test on test data\n",
    "def testAccuracy():\n",
    "    global testX, testY\n",
    "    correct_guesses = 0\n",
    "    for i in range(testX.shape[0]):\n",
    "        X = testX[i, :]\n",
    "        Y_pred = predict(X)\n",
    "        predicted_label = np.argmax(Y_pred)  # Get the index of the highest value\n",
    "        if predicted_label == testY[i]:\n",
    "            correct_guesses += 1\n",
    "    \n",
    "    accuracy = correct_guesses / testX.shape[0] * 100\n",
    "    return correct_guesses, accuracy\n",
    "\n",
    "\n",
    "# For Ploting the confusion matrix\n",
    "def plot_confusion_matrix(cm, num_classes):\n",
    "    fig, ax = plt.subplots(figsize=(8, 6))\n",
    "    cax = ax.matshow(cm, cmap=plt.cm.Blues)\n",
    "    plt.title('Confusion Matrix')\n",
    "    plt.colorbar(cax)\n",
    "    \n",
    "    # Set axis labels\n",
    "    ax.set_xticks(np.arange(num_classes))\n",
    "    ax.set_yticks(np.arange(num_classes))\n",
    "    \n",
    "    ax.set_xticklabels(range(num_classes))\n",
    "    ax.set_yticklabels(range(num_classes))\n",
    "    \n",
    "    plt.xlabel('Predicted Label')\n",
    "    plt.ylabel('True Label')\n",
    "\n",
    "    for i in range(num_classes):\n",
    "        for j in range(num_classes):\n",
    "            ax.text(j, i, str(cm[i, j]), va='center', ha='center', color='red')\n",
    "            \n",
    "    plt.show()\n"
   ]
  },
  {
   "cell_type": "code",
   "execution_count": 17,
   "metadata": {},
   "outputs": [
    {
     "name": "stdout",
     "output_type": "stream",
     "text": [
      "Correct guesses: 8598\n",
      "Accuracy: 85.99%\n"
     ]
    }
   ],
   "source": [
    "# Test the accuracy after training\n",
    "\n",
    "correct_guesses, accuracy = testAccuracy()\n",
    "print(f\"Correct guesses: {correct_guesses}\")\n",
    "print(f\"Accuracy: {accuracy:.2f}%\")"
   ]
  },
  {
   "cell_type": "code",
   "execution_count": 18,
   "metadata": {},
   "outputs": [
    {
     "data": {
      "image/png": "[encoded data removed]",
      "text/plain": [
       "<Figure size 800x600 with 2 Axes>"
      ]
     },
     "metadata": {},
     "output_type": "display_data"
    }
   ],
   "source": [
    "# plotting the confusion matrix\n",
    "\n",
    "y_pred = np.array([np.argmax(predict(testX[i, :])) for i in range(testX.shape[0])])\n",
    "\n",
    "num_classes = 10  # For MNIST, we have 10 classes (0-9)\n",
    "conf_matrix = np.zeros((num_classes, num_classes), dtype=int)\n",
    "\n",
    "# generating the confusion matrix\n",
    "for i in range(len(testY)):\n",
    "    true_label = testY[i]\n",
    "    predicted_label = y_pred[i]\n",
    "    conf_matrix[true_label, predicted_label] += 1\n",
    "\n",
    "plot_confusion_matrix(conf_matrix, num_classes)\n"
   ]
  },
  {
   "cell_type": "code",
   "execution_count": null,
   "metadata": {},
   "outputs": [],
   "source": []
  }
 ],
 "metadata": {
  "kernelspec": {
   "display_name": "Python 3 (ipykernel)",
   "language": "python",
   "name": "python3"
  },
  "language_info": {
   "codemirror_mode": {
    "name": "ipython",
    "version": 3
   },
   "file_extension": ".py",
   "mimetype": "text/x-python",
   "name": "python",
   "nbconvert_exporter": "python",
   "pygments_lexer": "ipython3",
   "version": "3.9.5"
  }
 },
 "nbformat": 4,
 "nbformat_minor": 4
}
